{
  "cells": [
    {
      "cell_type": "markdown",
      "id": "78NrNzUnsWh0XA2Tutsc4DWd",
      "metadata": {
        "tags": [],
        "id": "78NrNzUnsWh0XA2Tutsc4DWd"
      },
      "source": [
        "1. Install the Vertex AI SDK: Open a terminal window and enter the command below. You can also [install it in a virtualenv](https://googleapis.dev/python/aiplatform/latest/index.html)"
      ]
    },
    {
      "cell_type": "code",
      "id": "cnpV2aXdpuQGXYsqpxyhmEFc",
      "metadata": {
        "tags": [],
        "id": "cnpV2aXdpuQGXYsqpxyhmEFc",
        "colab": {
          "base_uri": "https://localhost:8080/",
          "height": 844
        },
        "executionInfo": {
          "status": "ok",
          "timestamp": 1719988722905,
          "user_tz": -330,
          "elapsed": 25016,
          "user": {
            "displayName": "",
            "userId": ""
          }
        },
        "outputId": "b09b0ef2-7630-4249-ef3b-5d08abff6058"
      },
      "source": [
        "!pip install --upgrade google-cloud-aiplatform"
      ],
      "execution_count": 2,
      "outputs": [
        {
          "output_type": "stream",
          "name": "stdout",
          "text": [
            "Requirement already satisfied: google-cloud-aiplatform in /usr/local/lib/python3.10/dist-packages (1.55.0)\n",
            "Collecting google-cloud-aiplatform\n",
            "  Downloading google_cloud_aiplatform-1.57.0-py2.py3-none-any.whl (5.1 MB)\n",
            "\u001b[2K     \u001b[90m━━━━━━━━━━━━━━━━━━━━━━━━━━━━━━━━━━━━━━━━\u001b[0m \u001b[32m5.1/5.1 MB\u001b[0m \u001b[31m18.0 MB/s\u001b[0m eta \u001b[36m0:00:00\u001b[0m\n",
            "\u001b[?25hRequirement already satisfied: google-api-core[grpc]!=2.0.*,!=2.1.*,!=2.2.*,!=2.3.*,!=2.4.*,!=2.5.*,!=2.6.*,!=2.7.*,<3.0.0dev,>=1.34.1 in /usr/local/lib/python3.10/dist-packages (from google-cloud-aiplatform) (2.11.1)\n",
            "Requirement already satisfied: google-auth<3.0.0dev,>=2.14.1 in /usr/local/lib/python3.10/dist-packages (from google-cloud-aiplatform) (2.27.0)\n",
            "Requirement already satisfied: proto-plus<2.0.0dev,>=1.22.0 in /usr/local/lib/python3.10/dist-packages (from google-cloud-aiplatform) (1.23.0)\n",
            "Requirement already satisfied: protobuf!=3.20.0,!=3.20.1,!=4.21.0,!=4.21.1,!=4.21.2,!=4.21.3,!=4.21.4,!=4.21.5,<5.0.0dev,>=3.19.5 in /usr/local/lib/python3.10/dist-packages (from google-cloud-aiplatform) (3.20.3)\n",
            "Requirement already satisfied: packaging>=14.3 in /usr/local/lib/python3.10/dist-packages (from google-cloud-aiplatform) (24.1)\n",
            "Requirement already satisfied: google-cloud-storage<3.0.0dev,>=1.32.0 in /usr/local/lib/python3.10/dist-packages (from google-cloud-aiplatform) (2.8.0)\n",
            "Requirement already satisfied: google-cloud-bigquery!=3.20.0,<4.0.0dev,>=1.15.0 in /usr/local/lib/python3.10/dist-packages (from google-cloud-aiplatform) (3.21.0)\n",
            "Requirement already satisfied: google-cloud-resource-manager<3.0.0dev,>=1.3.3 in /usr/local/lib/python3.10/dist-packages (from google-cloud-aiplatform) (1.12.3)\n",
            "Requirement already satisfied: shapely<3.0.0dev in /usr/local/lib/python3.10/dist-packages (from google-cloud-aiplatform) (2.0.4)\n",
            "Requirement already satisfied: pydantic<3 in /usr/local/lib/python3.10/dist-packages (from google-cloud-aiplatform) (1.10.16)\n",
            "Requirement already satisfied: docstring-parser<1 in /usr/local/lib/python3.10/dist-packages (from google-cloud-aiplatform) (0.16)\n",
            "Requirement already satisfied: googleapis-common-protos<2.0.dev0,>=1.56.2 in /usr/local/lib/python3.10/dist-packages (from google-api-core[grpc]!=2.0.*,!=2.1.*,!=2.2.*,!=2.3.*,!=2.4.*,!=2.5.*,!=2.6.*,!=2.7.*,<3.0.0dev,>=1.34.1->google-cloud-aiplatform) (1.63.1)\n",
            "Requirement already satisfied: requests<3.0.0.dev0,>=2.18.0 in /usr/local/lib/python3.10/dist-packages (from google-api-core[grpc]!=2.0.*,!=2.1.*,!=2.2.*,!=2.3.*,!=2.4.*,!=2.5.*,!=2.6.*,!=2.7.*,<3.0.0dev,>=1.34.1->google-cloud-aiplatform) (2.31.0)\n",
            "Requirement already satisfied: grpcio<2.0dev,>=1.33.2 in /usr/local/lib/python3.10/dist-packages (from google-api-core[grpc]!=2.0.*,!=2.1.*,!=2.2.*,!=2.3.*,!=2.4.*,!=2.5.*,!=2.6.*,!=2.7.*,<3.0.0dev,>=1.34.1->google-cloud-aiplatform) (1.64.1)\n",
            "Requirement already satisfied: grpcio-status<2.0.dev0,>=1.33.2 in /usr/local/lib/python3.10/dist-packages (from google-api-core[grpc]!=2.0.*,!=2.1.*,!=2.2.*,!=2.3.*,!=2.4.*,!=2.5.*,!=2.6.*,!=2.7.*,<3.0.0dev,>=1.34.1->google-cloud-aiplatform) (1.48.2)\n",
            "Requirement already satisfied: cachetools<6.0,>=2.0.0 in /usr/local/lib/python3.10/dist-packages (from google-auth<3.0.0dev,>=2.14.1->google-cloud-aiplatform) (5.3.3)\n",
            "Requirement already satisfied: pyasn1-modules>=0.2.1 in /usr/local/lib/python3.10/dist-packages (from google-auth<3.0.0dev,>=2.14.1->google-cloud-aiplatform) (0.4.0)\n",
            "Requirement already satisfied: rsa<5,>=3.1.4 in /usr/local/lib/python3.10/dist-packages (from google-auth<3.0.0dev,>=2.14.1->google-cloud-aiplatform) (4.9)\n",
            "Requirement already satisfied: google-cloud-core<3.0.0dev,>=1.6.0 in /usr/local/lib/python3.10/dist-packages (from google-cloud-bigquery!=3.20.0,<4.0.0dev,>=1.15.0->google-cloud-aiplatform) (2.3.3)\n",
            "Requirement already satisfied: google-resumable-media<3.0dev,>=0.6.0 in /usr/local/lib/python3.10/dist-packages (from google-cloud-bigquery!=3.20.0,<4.0.0dev,>=1.15.0->google-cloud-aiplatform) (2.7.1)\n",
            "Requirement already satisfied: python-dateutil<3.0dev,>=2.7.2 in /usr/local/lib/python3.10/dist-packages (from google-cloud-bigquery!=3.20.0,<4.0.0dev,>=1.15.0->google-cloud-aiplatform) (2.8.2)\n",
            "Requirement already satisfied: grpc-google-iam-v1<1.0.0dev,>=0.12.4 in /usr/local/lib/python3.10/dist-packages (from google-cloud-resource-manager<3.0.0dev,>=1.3.3->google-cloud-aiplatform) (0.13.0)\n",
            "Requirement already satisfied: typing-extensions>=4.2.0 in /usr/local/lib/python3.10/dist-packages (from pydantic<3->google-cloud-aiplatform) (4.12.2)\n",
            "Requirement already satisfied: numpy<3,>=1.14 in /usr/local/lib/python3.10/dist-packages (from shapely<3.0.0dev->google-cloud-aiplatform) (1.25.2)\n",
            "Requirement already satisfied: google-crc32c<2.0dev,>=1.0 in /usr/local/lib/python3.10/dist-packages (from google-resumable-media<3.0dev,>=0.6.0->google-cloud-bigquery!=3.20.0,<4.0.0dev,>=1.15.0->google-cloud-aiplatform) (1.5.0)\n",
            "Requirement already satisfied: pyasn1<0.7.0,>=0.4.6 in /usr/local/lib/python3.10/dist-packages (from pyasn1-modules>=0.2.1->google-auth<3.0.0dev,>=2.14.1->google-cloud-aiplatform) (0.6.0)\n",
            "Requirement already satisfied: six>=1.5 in /usr/local/lib/python3.10/dist-packages (from python-dateutil<3.0dev,>=2.7.2->google-cloud-bigquery!=3.20.0,<4.0.0dev,>=1.15.0->google-cloud-aiplatform) (1.16.0)\n",
            "Requirement already satisfied: charset-normalizer<4,>=2 in /usr/local/lib/python3.10/dist-packages (from requests<3.0.0.dev0,>=2.18.0->google-api-core[grpc]!=2.0.*,!=2.1.*,!=2.2.*,!=2.3.*,!=2.4.*,!=2.5.*,!=2.6.*,!=2.7.*,<3.0.0dev,>=1.34.1->google-cloud-aiplatform) (3.3.2)\n",
            "Requirement already satisfied: idna<4,>=2.5 in /usr/local/lib/python3.10/dist-packages (from requests<3.0.0.dev0,>=2.18.0->google-api-core[grpc]!=2.0.*,!=2.1.*,!=2.2.*,!=2.3.*,!=2.4.*,!=2.5.*,!=2.6.*,!=2.7.*,<3.0.0dev,>=1.34.1->google-cloud-aiplatform) (3.7)\n",
            "Requirement already satisfied: urllib3<3,>=1.21.1 in /usr/local/lib/python3.10/dist-packages (from requests<3.0.0.dev0,>=2.18.0->google-api-core[grpc]!=2.0.*,!=2.1.*,!=2.2.*,!=2.3.*,!=2.4.*,!=2.5.*,!=2.6.*,!=2.7.*,<3.0.0dev,>=1.34.1->google-cloud-aiplatform) (2.0.7)\n",
            "Requirement already satisfied: certifi>=2017.4.17 in /usr/local/lib/python3.10/dist-packages (from requests<3.0.0.dev0,>=2.18.0->google-api-core[grpc]!=2.0.*,!=2.1.*,!=2.2.*,!=2.3.*,!=2.4.*,!=2.5.*,!=2.6.*,!=2.7.*,<3.0.0dev,>=1.34.1->google-cloud-aiplatform) (2024.6.2)\n",
            "Installing collected packages: google-cloud-aiplatform\n",
            "  Attempting uninstall: google-cloud-aiplatform\n",
            "    Found existing installation: google-cloud-aiplatform 1.55.0\n",
            "    Uninstalling google-cloud-aiplatform-1.55.0:\n",
            "      Successfully uninstalled google-cloud-aiplatform-1.55.0\n",
            "Successfully installed google-cloud-aiplatform-1.57.0\n"
          ]
        },
        {
          "output_type": "display_data",
          "data": {
            "application/vnd.colab-display-data+json": {
              "pip_warning": {
                "packages": [
                  "google",
                  "vertexai"
                ]
              },
              "id": "b67f166cd6764b0eb92f7038e24b8d95"
            }
          },
          "metadata": {}
        }
      ]
    },
    {
      "cell_type": "markdown",
      "id": "Y0J2HmvDXPz771YARKKm2O5S",
      "metadata": {
        "tags": [],
        "id": "Y0J2HmvDXPz771YARKKm2O5S"
      },
      "source": [
        "2. Use the following code in your application to request a model response"
      ]
    },
    {
      "cell_type": "code",
      "id": "rv4OgwYiGMUS8MO6rXysOXlc",
      "metadata": {
        "tags": [],
        "id": "rv4OgwYiGMUS8MO6rXysOXlc",
        "colab": {
          "base_uri": "https://localhost:8080/"
        },
        "executionInfo": {
          "status": "ok",
          "timestamp": 1719988790098,
          "user_tz": -330,
          "elapsed": 2975,
          "user": {
            "displayName": "",
            "userId": ""
          }
        },
        "outputId": "8fcc0e15-047d-422f-cff3-a4ee326b42b6"
      },
      "source": [
        "import base64\n",
        "import vertexai\n",
        "from vertexai.generative_models import GenerativeModel, Part, FinishReason\n",
        "import vertexai.preview.generative_models as generative_models\n",
        "\n",
        "def generate():\n",
        "  vertexai.init(project=\"peaceful-harbor-393817\", location=\"us-central1\")\n",
        "  model = GenerativeModel(\n",
        "    \"gemini-1.5-flash-001\"\n",
        "  )\n",
        "  responses = model.generate_content(\n",
        "      [text1],\n",
        "      generation_config=generation_config,\n",
        "      safety_settings=safety_settings,\n",
        "      stream=True,\n",
        "  )\n",
        "\n",
        "  for response in responses:\n",
        "    print(response.text, end=\"\")\n",
        "\n",
        "text1 = \"\"\"You are looking for a hotel to book for your family of three in Port Orchard, WA. The following reviews are for a GOOD Inn in Port Orchard. Please summarize the reviews into two bulleted lists labeled \\\"Pros\\\" and \\\"Cons\\\". Do not include any duplicate information in the lists.\n",
        "\n",
        "Reviews:\n",
        "\n",
        "Customer service is friendly. Room is a little musty smell but I’m sure this is being off the bay. We have a beautiful view as well. Room is small but don’t need much anyways. The shampoo smells good. If you are looking for a safe and beautiful view this is a must.\n",
        "Read less\n",
        "\n",
        "Has wonderful view of the inlet with good rates. Kind and courteous service ready to support you with very helpful information and amenities. only drawback was the breakfast room was not available. All services were working\n",
        "\n",
        "The front desk staff, Sadie, Jaylene, and others were very friendly and helpful with answering questions about the area and helping with items we forgot at home. They have a computer and printer for customers to use. The view on the bay is spectacular. We could see the naval shipyard, ferries running across the bay, and many pleasure boats out in the bay. The rooms were clean and towels were changed daily during our stay which was several days. Breakfast was a grab and go, but it was sufficient to start your day. I would highly recommend this hotel. If I am back in the area in the future, I would definitely stay here.\n",
        "\n",
        "The room was OK - the hotel itself is a bit older and not in perfect shape but the staff were incredibly friendly and helpful. We left our stuff strewn about and I forgot to put the \\\"do not disturb\\\" sign out so that housekeeping wouldn\\'t have to deal with our clutter - they cleaned everything up and left our untidy mess neatly arranged on the beds. I very much appreciate their attention to detail. Front desk staff greeted us every time we went through and were always able to offer information when we needed to know something about the area.\n",
        "\n",
        "I enjoyed being right by the water, and there are a couple of picnic tables right by the water along with a nice walking trail. There are restaurants in walking distance, along with a cute shopping strip with a cool ice cream shop and a comic book store. Do yourself a favor and eat at the Chinese restaurant across the street - it was surprisingly wonderful!\n",
        "\n",
        "Old hotel in need of repair and updating: mold in bathroom torn or patched wall paper and old smelly carpet. Breakfast was a joke even by Co-Vid standards: bottled water, packaged processed waffles, granola bars ect…\n",
        "No cereal, no yogurt, no fruit, no milk or coffee or tea. Terrible value for money.\n",
        "\n",
        "We were in town for a wedding. The view of the Puget Sound was so lovely for every room. We were welcomed by the front desk gal. Our room was ready early. The room was clean but needs refreshing. The mattress was a challenge. The breakfast were a choice of bars and juice. It was nice to have a noon check out time so we didn\\'t feel rushed.\n",
        "\n",
        "Made a reservation for my nearly 21 year old who is working in the area for the summer and needed a place to stay for a night. She was turned away at 10pm, alone with nowhere to go because they won’t allow anyone under 21 to check into a room at this hotel. The website said that you had to be 19, but we found out this hotel has a different policy once she got there.\n",
        "\n",
        "There are slight quibbles but nothing that is at all unexpected. It\\'s in a great location, with views of the inlet and Bremerton. Pretty quiet though you know you\\'ll have inevitable kids running along the walk out side. AC flips back and forth between too cold and not cooling. But I\\'ve been in major hotels charging three times as much and experienced the same. Ice maker was not working. This is just following the big heat wave here so maybe there\\'s a connection. Didn\\'t do their breakfast. Very clean. A very nice room, with a view, at a good price. Really 4.8 stars for this one. Just a few short of perfect because that\\'s just not going to happen at a GOOD Inn in Port Orchard at this price. It\\'s a great place!\n",
        "\n",
        "We booked a double room, we were given the same on the second level and bay facing. The property itself is in a great location and I can only imagine the view on a clear day. That being said, I have nothing else to say that was positive. The beds were hard as a rock and noisy closest to the door and the other bed was so beaten down we could see the valley in the middle of it from the dip. The toilet was side-to-side loose, the floors stained up, the furnishings marked up, and the bathroom had wallpaper coming up from the walls and gaps and broken drywall around the top of the tub area with poor caulking that was half loose and covered with pink growth. This stay was appalling. What\\'s worse, the bathroom fans sounded like a jet engine struggling to take off. You might not think much of that until such a time that two neighbors have left there on all night and you can\\'t decide if the noise that\\'s keeping you up is more akin to being in the space shuttle or the engine rooms of the nuclear ship. The front desk was unhelpful about this which was the most disappointing of all. This hotel didn\\'t meet the standard of the brand during my stay and they certainly didn\\'t meet the mandate of the state when the young lady doing housekeeping was banging on doors and talking to people with no mask on in the morning. Never again.\n",
        "\n",
        "My boyfriend and I stayed for two nights. The first night was ok, but the second night a family with 4 kids moved in next door and were very loud. The rooms had a connecting door, which made the noise worse. Walls a thin. Also, they are remodeling some of the rooms or something and it was causing a traffic jam in the parking lot. Great view of the harbor and clean. Would consider staying again if I could get a quieter room.\"\"\"\n",
        "\n",
        "generation_config = {\n",
        "    \"max_output_tokens\": 2048,\n",
        "    \"temperature\": 0.2,\n",
        "    \"top_p\": 0.95,\n",
        "}\n",
        "\n",
        "safety_settings = {\n",
        "    generative_models.HarmCategory.HARM_CATEGORY_HATE_SPEECH: generative_models.HarmBlockThreshold.BLOCK_MEDIUM_AND_ABOVE,\n",
        "    generative_models.HarmCategory.HARM_CATEGORY_DANGEROUS_CONTENT: generative_models.HarmBlockThreshold.BLOCK_MEDIUM_AND_ABOVE,\n",
        "    generative_models.HarmCategory.HARM_CATEGORY_SEXUALLY_EXPLICIT: generative_models.HarmBlockThreshold.BLOCK_MEDIUM_AND_ABOVE,\n",
        "    generative_models.HarmCategory.HARM_CATEGORY_HARASSMENT: generative_models.HarmBlockThreshold.BLOCK_MEDIUM_AND_ABOVE,\n",
        "}\n",
        "\n",
        "generate()\n",
        "\n"
      ],
      "execution_count": 2,
      "outputs": [
        {
          "output_type": "stream",
          "name": "stdout",
          "text": [
            "## GOOD Inn in Port Orchard Reviews:\n",
            "\n",
            "**Pros:**\n",
            "\n",
            "* **Friendly and helpful staff:**  Staff is consistently praised for their friendliness, helpfulness, and willingness to go the extra mile.\n",
            "* **Great location and views:**  The hotel offers stunning views of the Puget Sound, the naval shipyard, and the bay. It's also conveniently located near restaurants, shops, and a walking trail.\n",
            "* **Clean rooms:**  Rooms are generally described as clean, with daily towel changes.\n",
            "* **Good value for the price:**  Guests appreciate the affordable rates for the location and views.\n",
            "* **Early check-in and late check-out:**  The hotel offers early check-in and late check-out options, which are appreciated by guests.\n",
            "\n",
            "**Cons:**\n",
            "\n",
            "* **Outdated and in need of repair:**  Some rooms are described as old and in need of updating, with issues like mold, torn wallpaper, and stained carpets.\n",
            "* **Noisy rooms:**  Thin walls and connecting doors can lead to noise issues from neighboring rooms.\n",
            "* **Limited breakfast:**  The breakfast is described as basic and lacking variety.\n",
            "* **Uncomfortable beds:**  Some guests have complained about the beds being hard and uncomfortable.\n",
            "* **Strict age policy:**  The hotel has a strict age policy that prohibits guests under 21 from checking in.\n",
            "* **Inconsistent AC:**  The AC system can fluctuate between too cold and not cooling effectively.\n",
            "* **Unhelpful front desk:**  Some guests have reported unhelpful experiences with the front desk staff.\n",
            "* **Lack of COVID-19 precautions:**  One guest reported a lack of mask-wearing by staff during their stay. \n"
          ]
        }
      ]
    }
  ],
  "metadata": {
    "kernelspec": {
      "display_name": "Python 3",
      "language": "python",
      "name": "python3"
    },
    "language_info": {
      "codemirror_mode": {
        "name": "ipython",
        "version": 3
      },
      "file_extension": ".py",
      "mimetype": "text/x-python",
      "name": "python",
      "nbconvert_exporter": "python",
      "pygments_lexer": "ipython3",
      "version": "3.10.10"
    },
    "colab": {
      "provenance": [],
      "name": "Summarize hotel reviews 3 Jul 2024, 11:49:43"
    }
  },
  "nbformat": 4,
  "nbformat_minor": 5
}