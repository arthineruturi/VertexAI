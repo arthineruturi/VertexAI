{
  "cells": [
    {
      "cell_type": "code",
      "id": "ebvslxq5MRWa0S3n2ZvF469u",
      "metadata": {
        "tags": [],
        "id": "ebvslxq5MRWa0S3n2ZvF469u",
        "colab": {
          "base_uri": "https://localhost:8080/",
          "height": 844
        },
        "executionInfo": {
          "status": "ok",
          "timestamp": 1719994403111,
          "user_tz": -330,
          "elapsed": 52637,
          "user": {
            "displayName": "",
            "userId": ""
          }
        },
        "outputId": "065397ee-a2b8-440e-ffbb-4a05a7662d13"
      },
      "source": [
        "!pip install --upgrade google-cloud-aiplatform"
      ],
      "execution_count": 1,
      "outputs": [
        {
          "output_type": "stream",
          "name": "stdout",
          "text": [
            "Requirement already satisfied: google-cloud-aiplatform in /usr/local/lib/python3.10/dist-packages (1.55.0)\n",
            "Collecting google-cloud-aiplatform\n",
            "  Downloading google_cloud_aiplatform-1.57.0-py2.py3-none-any.whl (5.1 MB)\n",
            "\u001b[2K     \u001b[90m━━━━━━━━━━━━━━━━━━━━━━━━━━━━━━━━━━━━━━━━\u001b[0m \u001b[32m5.1/5.1 MB\u001b[0m \u001b[31m45.1 MB/s\u001b[0m eta \u001b[36m0:00:00\u001b[0m\n",
            "\u001b[?25hRequirement already satisfied: google-api-core[grpc]!=2.0.*,!=2.1.*,!=2.2.*,!=2.3.*,!=2.4.*,!=2.5.*,!=2.6.*,!=2.7.*,<3.0.0dev,>=1.34.1 in /usr/local/lib/python3.10/dist-packages (from google-cloud-aiplatform) (2.11.1)\n",
            "Requirement already satisfied: google-auth<3.0.0dev,>=2.14.1 in /usr/local/lib/python3.10/dist-packages (from google-cloud-aiplatform) (2.27.0)\n",
            "Requirement already satisfied: proto-plus<2.0.0dev,>=1.22.0 in /usr/local/lib/python3.10/dist-packages (from google-cloud-aiplatform) (1.23.0)\n",
            "Requirement already satisfied: protobuf!=3.20.0,!=3.20.1,!=4.21.0,!=4.21.1,!=4.21.2,!=4.21.3,!=4.21.4,!=4.21.5,<5.0.0dev,>=3.19.5 in /usr/local/lib/python3.10/dist-packages (from google-cloud-aiplatform) (3.20.3)\n",
            "Requirement already satisfied: packaging>=14.3 in /usr/local/lib/python3.10/dist-packages (from google-cloud-aiplatform) (24.1)\n",
            "Requirement already satisfied: google-cloud-storage<3.0.0dev,>=1.32.0 in /usr/local/lib/python3.10/dist-packages (from google-cloud-aiplatform) (2.8.0)\n",
            "Requirement already satisfied: google-cloud-bigquery!=3.20.0,<4.0.0dev,>=1.15.0 in /usr/local/lib/python3.10/dist-packages (from google-cloud-aiplatform) (3.21.0)\n",
            "Requirement already satisfied: google-cloud-resource-manager<3.0.0dev,>=1.3.3 in /usr/local/lib/python3.10/dist-packages (from google-cloud-aiplatform) (1.12.3)\n",
            "Requirement already satisfied: shapely<3.0.0dev in /usr/local/lib/python3.10/dist-packages (from google-cloud-aiplatform) (2.0.4)\n",
            "Requirement already satisfied: pydantic<3 in /usr/local/lib/python3.10/dist-packages (from google-cloud-aiplatform) (1.10.16)\n",
            "Requirement already satisfied: docstring-parser<1 in /usr/local/lib/python3.10/dist-packages (from google-cloud-aiplatform) (0.16)\n",
            "Requirement already satisfied: googleapis-common-protos<2.0.dev0,>=1.56.2 in /usr/local/lib/python3.10/dist-packages (from google-api-core[grpc]!=2.0.*,!=2.1.*,!=2.2.*,!=2.3.*,!=2.4.*,!=2.5.*,!=2.6.*,!=2.7.*,<3.0.0dev,>=1.34.1->google-cloud-aiplatform) (1.63.1)\n",
            "Requirement already satisfied: requests<3.0.0.dev0,>=2.18.0 in /usr/local/lib/python3.10/dist-packages (from google-api-core[grpc]!=2.0.*,!=2.1.*,!=2.2.*,!=2.3.*,!=2.4.*,!=2.5.*,!=2.6.*,!=2.7.*,<3.0.0dev,>=1.34.1->google-cloud-aiplatform) (2.31.0)\n",
            "Requirement already satisfied: grpcio<2.0dev,>=1.33.2 in /usr/local/lib/python3.10/dist-packages (from google-api-core[grpc]!=2.0.*,!=2.1.*,!=2.2.*,!=2.3.*,!=2.4.*,!=2.5.*,!=2.6.*,!=2.7.*,<3.0.0dev,>=1.34.1->google-cloud-aiplatform) (1.64.1)\n",
            "Requirement already satisfied: grpcio-status<2.0.dev0,>=1.33.2 in /usr/local/lib/python3.10/dist-packages (from google-api-core[grpc]!=2.0.*,!=2.1.*,!=2.2.*,!=2.3.*,!=2.4.*,!=2.5.*,!=2.6.*,!=2.7.*,<3.0.0dev,>=1.34.1->google-cloud-aiplatform) (1.48.2)\n",
            "Requirement already satisfied: cachetools<6.0,>=2.0.0 in /usr/local/lib/python3.10/dist-packages (from google-auth<3.0.0dev,>=2.14.1->google-cloud-aiplatform) (5.3.3)\n",
            "Requirement already satisfied: pyasn1-modules>=0.2.1 in /usr/local/lib/python3.10/dist-packages (from google-auth<3.0.0dev,>=2.14.1->google-cloud-aiplatform) (0.4.0)\n",
            "Requirement already satisfied: rsa<5,>=3.1.4 in /usr/local/lib/python3.10/dist-packages (from google-auth<3.0.0dev,>=2.14.1->google-cloud-aiplatform) (4.9)\n",
            "Requirement already satisfied: google-cloud-core<3.0.0dev,>=1.6.0 in /usr/local/lib/python3.10/dist-packages (from google-cloud-bigquery!=3.20.0,<4.0.0dev,>=1.15.0->google-cloud-aiplatform) (2.3.3)\n",
            "Requirement already satisfied: google-resumable-media<3.0dev,>=0.6.0 in /usr/local/lib/python3.10/dist-packages (from google-cloud-bigquery!=3.20.0,<4.0.0dev,>=1.15.0->google-cloud-aiplatform) (2.7.1)\n",
            "Requirement already satisfied: python-dateutil<3.0dev,>=2.7.2 in /usr/local/lib/python3.10/dist-packages (from google-cloud-bigquery!=3.20.0,<4.0.0dev,>=1.15.0->google-cloud-aiplatform) (2.8.2)\n",
            "Requirement already satisfied: grpc-google-iam-v1<1.0.0dev,>=0.12.4 in /usr/local/lib/python3.10/dist-packages (from google-cloud-resource-manager<3.0.0dev,>=1.3.3->google-cloud-aiplatform) (0.13.0)\n",
            "Requirement already satisfied: typing-extensions>=4.2.0 in /usr/local/lib/python3.10/dist-packages (from pydantic<3->google-cloud-aiplatform) (4.12.2)\n",
            "Requirement already satisfied: numpy<3,>=1.14 in /usr/local/lib/python3.10/dist-packages (from shapely<3.0.0dev->google-cloud-aiplatform) (1.25.2)\n",
            "Requirement already satisfied: google-crc32c<2.0dev,>=1.0 in /usr/local/lib/python3.10/dist-packages (from google-resumable-media<3.0dev,>=0.6.0->google-cloud-bigquery!=3.20.0,<4.0.0dev,>=1.15.0->google-cloud-aiplatform) (1.5.0)\n",
            "Requirement already satisfied: pyasn1<0.7.0,>=0.4.6 in /usr/local/lib/python3.10/dist-packages (from pyasn1-modules>=0.2.1->google-auth<3.0.0dev,>=2.14.1->google-cloud-aiplatform) (0.6.0)\n",
            "Requirement already satisfied: six>=1.5 in /usr/local/lib/python3.10/dist-packages (from python-dateutil<3.0dev,>=2.7.2->google-cloud-bigquery!=3.20.0,<4.0.0dev,>=1.15.0->google-cloud-aiplatform) (1.16.0)\n",
            "Requirement already satisfied: charset-normalizer<4,>=2 in /usr/local/lib/python3.10/dist-packages (from requests<3.0.0.dev0,>=2.18.0->google-api-core[grpc]!=2.0.*,!=2.1.*,!=2.2.*,!=2.3.*,!=2.4.*,!=2.5.*,!=2.6.*,!=2.7.*,<3.0.0dev,>=1.34.1->google-cloud-aiplatform) (3.3.2)\n",
            "Requirement already satisfied: idna<4,>=2.5 in /usr/local/lib/python3.10/dist-packages (from requests<3.0.0.dev0,>=2.18.0->google-api-core[grpc]!=2.0.*,!=2.1.*,!=2.2.*,!=2.3.*,!=2.4.*,!=2.5.*,!=2.6.*,!=2.7.*,<3.0.0dev,>=1.34.1->google-cloud-aiplatform) (3.7)\n",
            "Requirement already satisfied: urllib3<3,>=1.21.1 in /usr/local/lib/python3.10/dist-packages (from requests<3.0.0.dev0,>=2.18.0->google-api-core[grpc]!=2.0.*,!=2.1.*,!=2.2.*,!=2.3.*,!=2.4.*,!=2.5.*,!=2.6.*,!=2.7.*,<3.0.0dev,>=1.34.1->google-cloud-aiplatform) (2.0.7)\n",
            "Requirement already satisfied: certifi>=2017.4.17 in /usr/local/lib/python3.10/dist-packages (from requests<3.0.0.dev0,>=2.18.0->google-api-core[grpc]!=2.0.*,!=2.1.*,!=2.2.*,!=2.3.*,!=2.4.*,!=2.5.*,!=2.6.*,!=2.7.*,<3.0.0dev,>=1.34.1->google-cloud-aiplatform) (2024.6.2)\n",
            "Installing collected packages: google-cloud-aiplatform\n",
            "  Attempting uninstall: google-cloud-aiplatform\n",
            "    Found existing installation: google-cloud-aiplatform 1.55.0\n",
            "    Uninstalling google-cloud-aiplatform-1.55.0:\n",
            "      Successfully uninstalled google-cloud-aiplatform-1.55.0\n",
            "Successfully installed google-cloud-aiplatform-1.57.0\n"
          ]
        },
        {
          "output_type": "display_data",
          "data": {
            "application/vnd.colab-display-data+json": {
              "pip_warning": {
                "packages": [
                  "google"
                ]
              },
              "id": "9b86b956708c4fd585ca6713a6750be9"
            }
          },
          "metadata": {}
        }
      ]
    },
    {
      "cell_type": "code",
      "source": [
        "import vertexai\n",
        "from vertexai.generative_models import GenerativeModel\n",
        "import vertexai.preview.generative_models as generative_models\n",
        "\n",
        "# Provided information about Cymbal Direct\n",
        "textsi_1 = \"\"\"Cymbal Direct is an online direct-to-consumer footwear and apparel retailer headquartered in Chicago.\n",
        "\n",
        "Founded in 2008, Cymbal Direct (originally 'Antern') is a fair trade and B Corp certified sustainability-focused company that works with cotton farmers to reinvest in their communities. The price range for Cymbal clothes is typically between $50 and $300.\n",
        "\n",
        "In 2010, as Cymbal Group began focusing on digitally-savvy businesses that appealed to a younger demographic of shoppers, the holding company acquired Antern and renamed it Cymbal Direct. In 2019, Cymbal Direct reported an annual revenue of $7 million and employed a total of 32 employees.\n",
        "\n",
        "Cymbal Direct is a digitally native retailer.\"\"\"\n",
        "\n",
        "def multiturn_generate_content():\n",
        "    # Initialize Vertex AI\n",
        "    vertexai.init(project=\"peaceful-harbor-393817\", location=\"us-east4\")\n",
        "\n",
        "    # Initialize Generative Model\n",
        "    model = GenerativeModel(\"gemini-1.5-flash-001\")\n",
        "    chat = model.start_chat()\n",
        "\n",
        "    # Questions to ask based on the provided textsi_1\n",
        "    questions = [\n",
        "        f\"{textsi_1}\\nWhat does Cymbal Direct sell?\",\n",
        "        f\" {textsi_1}\\nWhen was Cymbal Direct founded?\",\n",
        "        f\" {textsi_1}\\nWhat is the price range of Cymbal clothes?\"\n",
        "    ]\n",
        "\n",
        "    # Print out provided information about Cymbal Direct\n",
        "    print(\"\")\n",
        "    print(textsi_1)\n",
        "    print(\"\\n\")\n",
        "\n",
        "    # Generate responses based on the questions\n",
        "    for question in questions:\n",
        "        response = chat.send_message(\n",
        "            question,\n",
        "            generation_config=generation_config,\n",
        "            safety_settings=safety_settings\n",
        "        )\n",
        "        print(\"Question:\", question)\n",
        "        print(\"Answer:\", response.text)\n",
        "        print(\"\\n\")\n",
        "\n",
        "# Configuration for generation and safety settings\n",
        "generation_config = {\n",
        "    \"max_output_tokens\": 1024,\n",
        "    \"temperature\": 0.2,\n",
        "    \"top_p\": 0.8,\n",
        "}\n",
        "\n",
        "safety_settings = {\n",
        "    generative_models.HarmCategory.HARM_CATEGORY_HATE_SPEECH: generative_models.HarmBlockThreshold.BLOCK_MEDIUM_AND_ABOVE,\n",
        "    generative_models.HarmCategory.HARM_CATEGORY_DANGEROUS_CONTENT: generative_models.HarmBlockThreshold.BLOCK_MEDIUM_AND_ABOVE,\n",
        "    generative_models.HarmCategory.HARM_CATEGORY_SEXUALLY_EXPLICIT: generative_models.HarmBlockThreshold.BLOCK_MEDIUM_AND_ABOVE,\n",
        "    generative_models.HarmCategory.HARM_CATEGORY_HARASSMENT: generative_models.HarmBlockThreshold.BLOCK_MEDIUM_AND_ABOVE,\n",
        "}\n",
        "\n",
        "# Execute the multi-turn conversation\n",
        "multiturn_generate_content()\n"
      ],
      "metadata": {
        "colab": {
          "base_uri": "https://localhost:8080/"
        },
        "id": "Tyk0DondqTdK",
        "executionInfo": {
          "status": "ok",
          "timestamp": 1719996339881,
          "user_tz": -330,
          "elapsed": 1344,
          "user": {
            "displayName": "",
            "userId": ""
          }
        },
        "outputId": "6db45e95-ec8c-49e8-dedc-27ec954129a7"
      },
      "id": "Tyk0DondqTdK",
      "execution_count": 29,
      "outputs": [
        {
          "output_type": "stream",
          "name": "stdout",
          "text": [
            "\n",
            "Cymbal Direct is an online direct-to-consumer footwear and apparel retailer headquartered in Chicago. \n",
            "\n",
            "Founded in 2008, Cymbal Direct (originally 'Antern') is a fair trade and B Corp certified sustainability-focused company that works with cotton farmers to reinvest in their communities. The price range for Cymbal clothes is typically between $50 and $300.\n",
            "\n",
            "In 2010, as Cymbal Group began focusing on digitally-savvy businesses that appealed to a younger demographic of shoppers, the holding company acquired Antern and renamed it Cymbal Direct. In 2019, Cymbal Direct reported an annual revenue of $7 million and employed a total of 32 employees. \n",
            "\n",
            "Cymbal Direct is a digitally native retailer.\n",
            "\n",
            "\n",
            "Question: Cymbal Direct is an online direct-to-consumer footwear and apparel retailer headquartered in Chicago. \n",
            "\n",
            "Founded in 2008, Cymbal Direct (originally 'Antern') is a fair trade and B Corp certified sustainability-focused company that works with cotton farmers to reinvest in their communities. The price range for Cymbal clothes is typically between $50 and $300.\n",
            "\n",
            "In 2010, as Cymbal Group began focusing on digitally-savvy businesses that appealed to a younger demographic of shoppers, the holding company acquired Antern and renamed it Cymbal Direct. In 2019, Cymbal Direct reported an annual revenue of $7 million and employed a total of 32 employees. \n",
            "\n",
            "Cymbal Direct is a digitally native retailer.\n",
            "What does Cymbal Direct sell?\n",
            "Answer: Cymbal Direct sells **footwear and apparel**. \n",
            "\n",
            "\n",
            "\n",
            "Question:  Cymbal Direct is an online direct-to-consumer footwear and apparel retailer headquartered in Chicago. \n",
            "\n",
            "Founded in 2008, Cymbal Direct (originally 'Antern') is a fair trade and B Corp certified sustainability-focused company that works with cotton farmers to reinvest in their communities. The price range for Cymbal clothes is typically between $50 and $300.\n",
            "\n",
            "In 2010, as Cymbal Group began focusing on digitally-savvy businesses that appealed to a younger demographic of shoppers, the holding company acquired Antern and renamed it Cymbal Direct. In 2019, Cymbal Direct reported an annual revenue of $7 million and employed a total of 32 employees. \n",
            "\n",
            "Cymbal Direct is a digitally native retailer.\n",
            "When was Cymbal Direct founded?\n",
            "Answer: Cymbal Direct was founded in **2008**. \n",
            "\n",
            "\n",
            "\n",
            "Question:  Cymbal Direct is an online direct-to-consumer footwear and apparel retailer headquartered in Chicago. \n",
            "\n",
            "Founded in 2008, Cymbal Direct (originally 'Antern') is a fair trade and B Corp certified sustainability-focused company that works with cotton farmers to reinvest in their communities. The price range for Cymbal clothes is typically between $50 and $300.\n",
            "\n",
            "In 2010, as Cymbal Group began focusing on digitally-savvy businesses that appealed to a younger demographic of shoppers, the holding company acquired Antern and renamed it Cymbal Direct. In 2019, Cymbal Direct reported an annual revenue of $7 million and employed a total of 32 employees. \n",
            "\n",
            "Cymbal Direct is a digitally native retailer.\n",
            "What is the price range of Cymbal clothes?\n",
            "Answer: The price range for Cymbal clothes is typically between **$50 and $300**. \n",
            "\n",
            "\n",
            "\n"
          ]
        }
      ]
    },
    {
      "cell_type": "code",
      "source": [
        "import vertexai\n",
        "from vertexai.generative_models import GenerativeModel\n",
        "import vertexai.preview.generative_models as generative_models\n",
        "\n",
        "# Provided information about cats\n",
        "textsi_2 = \"\"\"Cats conserve energy by sleeping for an average of 13 to 14 hours a day.\n",
        "Cats have flexible bodies and teeth adapted for hunting small animals such as mice and rats.\n",
        "A group of cats is called a clowder, a male cat is called a tom, a female cat is called a molly or queen while young cats are called kittens.\"\"\"\n",
        "\n",
        "def multiturn_generate_content():\n",
        "    # Initialize Vertex AI\n",
        "    vertexai.init(project=\"peaceful-harbor-393817\", location=\"us-east4\")\n",
        "\n",
        "    # Initialize Generative Model\n",
        "    model = GenerativeModel(\"gemini-1.5-flash-001\")\n",
        "    chat = model.start_chat()\n",
        "\n",
        "    # Questions to ask based on the provided textsi_2\n",
        "    questions = [\n",
        "        \"How many hours do cats sleep on average?\",\n",
        "        \"What are cats' bodies and teeth adapted for?\",\n",
        "        \"What is a group of cats called?\",\n",
        "        \"What is a male cat called?\",\n",
        "        \"What is a female cat called?\",\n",
        "        \"What are young cats called?\"\n",
        "    ]\n",
        "\n",
        "    # Print out provided information about cats\n",
        "    print(\"Provided Information about Cats:\")\n",
        "    print(textsi_2)\n",
        "    print(\"\\n\")\n",
        "\n",
        "    # Generate responses based on the questions\n",
        "    for question in questions:\n",
        "        message_content = f\"{textsi_2}\\n\\n{question}\"\n",
        "        response = chat.send_message(\n",
        "            message_content,\n",
        "            generation_config=generation_config,\n",
        "            safety_settings=safety_settings\n",
        "        )\n",
        "        print(\"Question:\", question)\n",
        "        print(\"Answer:\", response.text)\n",
        "        print(\"\\n\")\n",
        "\n",
        "# Configuration for generation and safety settings\n",
        "generation_config = {\n",
        "    \"max_output_tokens\": 1024,\n",
        "    \"temperature\": 0.2,\n",
        "    \"top_p\": 0.8,\n",
        "}\n",
        "\n",
        "safety_settings = {\n",
        "    generative_models.HarmCategory.HARM_CATEGORY_HATE_SPEECH: generative_models.HarmBlockThreshold.BLOCK_MEDIUM_AND_ABOVE,\n",
        "    generative_models.HarmCategory.HARM_CATEGORY_DANGEROUS_CONTENT: generative_models.HarmBlockThreshold.BLOCK_MEDIUM_AND_ABOVE,\n",
        "    generative_models.HarmCategory.HARM_CATEGORY_SEXUALLY_EXPLICIT: generative_models.HarmBlockThreshold.BLOCK_MEDIUM_AND_ABOVE,\n",
        "    generative_models.HarmCategory.HARM_CATEGORY_HARASSMENT: generative_models.HarmBlockThreshold.BLOCK_MEDIUM_AND_ABOVE,\n",
        "}\n",
        "\n",
        "# Execute the multi-turn conversation\n",
        "multiturn_generate_content()\n"
      ],
      "metadata": {
        "colab": {
          "base_uri": "https://localhost:8080/"
        },
        "id": "x3ZC9Q57v31V",
        "executionInfo": {
          "status": "ok",
          "timestamp": 1719996210897,
          "user_tz": -330,
          "elapsed": 2223,
          "user": {
            "displayName": "",
            "userId": ""
          }
        },
        "outputId": "f72c4f58-7cf0-4ddd-dfa2-e31746d7c252"
      },
      "id": "x3ZC9Q57v31V",
      "execution_count": 26,
      "outputs": [
        {
          "output_type": "stream",
          "name": "stdout",
          "text": [
            "Provided Information about Cats:\n",
            "Cats conserve energy by sleeping for an average of 13 to 14 hours a day. \n",
            "Cats have flexible bodies and teeth adapted for hunting small animals such as mice and rats. \n",
            "A group of cats is called a clowder, a male cat is called a tom, a female cat is called a molly or queen while young cats are called kittens.\n",
            "\n",
            "\n",
            "Question: How many hours do cats sleep on average?\n",
            "Answer: Cats sleep an average of **13 to 14 hours** a day. \n",
            "\n",
            "\n",
            "\n",
            "Question: What are cats' bodies and teeth adapted for?\n",
            "Answer: Cats' bodies and teeth are adapted for **hunting small animals such as mice and rats**. \n",
            "\n",
            "\n",
            "\n",
            "Question: What is a group of cats called?\n",
            "Answer: A group of cats is called a **clowder**. \n",
            "\n",
            "\n",
            "\n",
            "Question: What is a male cat called?\n",
            "Answer: A male cat is called a **tom**. \n",
            "\n",
            "\n",
            "\n",
            "Question: What is a female cat called?\n",
            "Answer: A female cat can be called either a **molly** or a **queen**. \n",
            "\n",
            "\n",
            "\n",
            "Question: What are young cats called?\n",
            "Answer: Young cats are called **kittens**. \n",
            "\n",
            "\n",
            "\n"
          ]
        }
      ]
    }
  ],
  "metadata": {
    "kernelspec": {
      "display_name": "Python 3",
      "language": "python",
      "name": "python3"
    },
    "language_info": {
      "codemirror_mode": {
        "name": "ipython",
        "version": 3
      },
      "file_extension": ".py",
      "mimetype": "text/x-python",
      "name": "python",
      "nbconvert_exporter": "python",
      "pygments_lexer": "ipython3",
      "version": "3.10.10"
    },
    "colab": {
      "provenance": [],
      "name": "Company chatbot 3 Jul 2024, 13:36:54"
    }
  },
  "nbformat": 4,
  "nbformat_minor": 5
}